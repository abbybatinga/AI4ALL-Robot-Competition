{
  "nbformat": 4,
  "nbformat_minor": 0,
  "metadata": {
    "colab": {
      "name": "Robot Competition - Abigail Batinga.ipynb",
      "provenance": [],
      "collapsed_sections": []
    },
    "kernelspec": {
      "name": "python3",
      "display_name": "Python 3"
    }
  },
  "cells": [
    {
      "cell_type": "markdown",
      "metadata": {
        "id": "vPFcbE4G0oOG",
        "colab_type": "text"
      },
      "source": [
        "# **UW AI4ALL Robot Competition**\n",
        "\n",
        "By: Abigail Batinga and Tapan Khanal"
      ]
    },
    {
      "cell_type": "code",
      "metadata": {
        "id": "bYGzVg9c4-O4",
        "colab_type": "code",
        "colab": {}
      },
      "source": [
        "# Import necessary files\n",
        "import zipfile as zf\n",
        "import os\n",
        "import shutil\n",
        "import random"
      ],
      "execution_count": null,
      "outputs": []
    },
    {
      "cell_type": "code",
      "metadata": {
        "id": "KhAinkPzzkVM",
        "colab_type": "code",
        "colab": {
          "base_uri": "https://localhost:8080/",
          "height": 54
        },
        "outputId": "f8626c8c-5f47-44c7-cd59-1badcf86da95"
      },
      "source": [
        "# Mount notebook to google drive\n",
        "from google.colab import drive\n",
        "drive.mount('/content/drive')"
      ],
      "execution_count": null,
      "outputs": [
        {
          "output_type": "stream",
          "text": [
            "Drive already mounted at /content/drive; to attempt to forcibly remount, call drive.mount(\"/content/drive\", force_remount=True).\n"
          ],
          "name": "stdout"
        }
      ]
    },
    {
      "cell_type": "code",
      "metadata": {
        "id": "BrvH6L_p4qNM",
        "colab_type": "code",
        "colab": {}
      },
      "source": [
        "# Define path\n",
        "path = '/content/drive/My Drive/dataset-resized.zip'\n",
        "data_path = '/content/drive/My Drive/dataset-resized'"
      ],
      "execution_count": null,
      "outputs": []
    },
    {
      "cell_type": "code",
      "metadata": {
        "id": "vrOJU7A75CPf",
        "colab_type": "code",
        "colab": {}
      },
      "source": [
        "files = zf.ZipFile(path, 'r')\n",
        "files.extractall()\n",
        "files.close()"
      ],
      "execution_count": null,
      "outputs": []
    },
    {
      "cell_type": "code",
      "metadata": {
        "id": "6uUnqJr55aKk",
        "colab_type": "code",
        "colab": {
          "base_uri": "https://localhost:8080/",
          "height": 34
        },
        "outputId": "c89700bd-d5f4-47b6-c406-35a6ccde7721"
      },
      "source": [
        "os.listdir(os.path.join(os.getcwd(), \"dataset-resized\"))"
      ],
      "execution_count": null,
      "outputs": [
        {
          "output_type": "execute_result",
          "data": {
            "text/plain": [
              "['.DS_Store', 'paper', 'glass', 'plastic', 'trash', 'cardboard', 'metal']"
            ]
          },
          "metadata": {
            "tags": []
          },
          "execution_count": 11
        }
      ]
    },
    {
      "cell_type": "code",
      "metadata": {
        "id": "_bhVt0qm5z5L",
        "colab_type": "code",
        "colab": {
          "base_uri": "https://localhost:8080/",
          "height": 136
        },
        "outputId": "c05b3bd2-2d9c-4053-b9f1-cdaae59762df"
      },
      "source": [
        "for file in os.listdir(os.path.join(os.getcwd(), \"dataset-resized\")):\n",
        "  print(file)"
      ],
      "execution_count": null,
      "outputs": [
        {
          "output_type": "stream",
          "text": [
            ".DS_Store\n",
            "paper\n",
            "glass\n",
            "plastic\n",
            "trash\n",
            "cardboard\n",
            "metal\n"
          ],
          "name": "stdout"
        }
      ]
    },
    {
      "cell_type": "code",
      "metadata": {
        "id": "er88Fx0h7lSD",
        "colab_type": "code",
        "colab": {}
      },
      "source": [
        "# Define lists for classes\n",
        "paper = []\n",
        "glass = []\n",
        "plastic = []\n",
        "trash = []\n",
        "cardboard = []\n",
        "metal = []"
      ],
      "execution_count": null,
      "outputs": []
    },
    {
      "cell_type": "code",
      "metadata": {
        "id": "eZK7pNwTADlk",
        "colab_type": "code",
        "colab": {}
      },
      "source": [
        "def addFilestoList(folder, destList):\n",
        "  data_path = os.path.join(os.getcwd(), \"dataset-resized/\" + folder)\n",
        "  destList = [f for f in os.listdir(data_path)]\n",
        "  random.shuffle(destList)\n",
        "  return destList"
      ],
      "execution_count": null,
      "outputs": []
    },
    {
      "cell_type": "code",
      "metadata": {
        "id": "Oiok19zgAram",
        "colab_type": "code",
        "colab": {}
      },
      "source": [
        "# Store image files in lists\n",
        "paper = addFilestoList('paper', paper)\n",
        "glass = addFilestoList('glass', glass)\n",
        "plastic = addFilestoList('plastic', plastic)\n",
        "trash = addFilestoList('trash', trash)\n",
        "cardboard = addFilestoList('cardboard', cardboard)\n",
        "metal = addFilestoList('metal', metal)"
      ],
      "execution_count": null,
      "outputs": []
    },
    {
      "cell_type": "code",
      "metadata": {
        "id": "uDU-DobzBMn_",
        "colab_type": "code",
        "colab": {}
      },
      "source": [
        "# Select 135 images for each class\n",
        "paper = paper[0:135]\n",
        "glass = glass[0:135]\n",
        "plastic = plastic[0:135]\n",
        "trash = trash[0:135]\n",
        "cardboard = cardboard[0:135]\n",
        "metal = metal[0:135]"
      ],
      "execution_count": null,
      "outputs": []
    },
    {
      "cell_type": "code",
      "metadata": {
        "id": "kIsQUbWvC2x5",
        "colab_type": "code",
        "colab": {}
      },
      "source": [
        "# Split files into train and  --> 75/25 split\n",
        "rootDir = '/content/drive/My Drive/waste_dataset'\n",
        "classesDir = ['cardboard', 'glass', 'metal', 'paper', 'plastic', 'trash']\n",
        "\n",
        "trainRatio = .75\n",
        "testRatio = .25\n",
        "\n",
        "# Create class subdirectories for train and test directories\n",
        "for clas in classesDir:\n",
        "  os.makedirs(rootDir +'/train/' + clas)\n",
        "  os.makedirs(rootDir + '/test/' + clas)"
      ],
      "execution_count": null,
      "outputs": []
    },
    {
      "cell_type": "code",
      "metadata": {
        "id": "kNIcb-0fJRYY",
        "colab_type": "code",
        "colab": {}
      },
      "source": [
        "trainCount = int(135*.75)"
      ],
      "execution_count": null,
      "outputs": []
    },
    {
      "cell_type": "code",
      "metadata": {
        "id": "ab1G-tPtMCjc",
        "colab_type": "code",
        "colab": {}
      },
      "source": [
        "# Copy to train from original dataset\n",
        "data_path = os.path.join(os.getcwd(), \"dataset-resized/paper/\")\n",
        "\n",
        "for p in paper[0:trainCount]:\n",
        "  shutil.copy(data_path + p, rootDir + '/train/paper')"
      ],
      "execution_count": null,
      "outputs": []
    },
    {
      "cell_type": "code",
      "metadata": {
        "id": "05Q6N-qOTYzh",
        "colab_type": "code",
        "colab": {}
      },
      "source": [
        "def splitData(folderName, classList):\n",
        "  dataPath = os.path.join(os.getcwd(), 'dataset-resized/' + folderName + '/')\n",
        "\n",
        "  # Copy to train subdirectories\n",
        "  for img in classList[0:trainCount]:\n",
        "    shutil.copy(dataPath + img, rootDir + '/train/' + folderName)\n",
        "\n",
        "  # Copy to test subdirectories\n",
        "  for img in classList[trainCount+1:]:\n",
        "    shutil.copy(dataPath + img, rootDir + '/test/' + folderName)"
      ],
      "execution_count": null,
      "outputs": []
    },
    {
      "cell_type": "code",
      "metadata": {
        "id": "JKoA_94_UjZN",
        "colab_type": "code",
        "colab": {}
      },
      "source": [
        "# Copy to directories\n",
        "splitData('paper', paper)\n",
        "splitData('glass', glass)\n",
        "splitData('plastic', plastic)\n",
        "splitData('trash', trash)\n",
        "splitData('cardboard', cardboard)\n",
        "splitData('metal', metal)"
      ],
      "execution_count": null,
      "outputs": []
    },
    {
      "cell_type": "code",
      "metadata": {
        "id": "sivHvtviWA-h",
        "colab_type": "code",
        "colab": {}
      },
      "source": [
        ""
      ],
      "execution_count": null,
      "outputs": []
    }
  ]
}